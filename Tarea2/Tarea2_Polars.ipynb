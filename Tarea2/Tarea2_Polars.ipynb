{
 "cells": [
  {
   "cell_type": "markdown",
   "id": "cb3ff257",
   "metadata": {},
   "source": [
    "*Cristopher Velasco Avila*\n",
    "\n",
    "# Tarea 2 - Caso pandas"
   ]
  },
  {
   "cell_type": "markdown",
   "id": "2e09ee83",
   "metadata": {},
   "source": [
    "## Instrucciones.\n",
    "\n",
    "Accede al sitio web proporcionado y descarga los 4 parquets de taxis de NYC para Enero de 2025. A partir de la información que se encuentra en los datasets, elabora 2 notebooks (uno con Pandas y otro con Polars) reportando por lo menos lo siguiente en un informe estadístico:"
   ]
  },
  {
   "cell_type": "code",
   "execution_count": 1,
   "id": "444c5cd7",
   "metadata": {},
   "outputs": [],
   "source": [
    "# Importamos las librerias\n",
    "\n",
    "import polars as pl\n",
    "import matplotlib.pyplot as plt\n",
    "import numpy as np"
   ]
  },
  {
   "cell_type": "markdown",
   "id": "d5cb7372",
   "metadata": {},
   "source": [
    "### 1. Promedio de ingresos brutos de cada tipo de taxi y de todos los taxis\n",
    "Importamos los archivos parquet como dataframes con diferentes nombres cada uno. Posteriormente se va a extraer información de las columnas de cada uno. Para lograr ello, usamos el metodo ```pl.read_parquet```"
   ]
  },
  {
   "cell_type": "code",
   "execution_count": 2,
   "id": "1dab2663",
   "metadata": {},
   "outputs": [],
   "source": [
    "yellow = pl.read_parquet(\"yellow_tripdata_2025-01.parquet\")\n",
    "green = pl.read_parquet(\"green_tripdata_2025-01.parquet\")\n",
    "forHire = pl.read_parquet(\"fhvhv_tripdata_2025-01.parquet\")"
   ]
  },
  {
   "cell_type": "markdown",
   "id": "b0cf26d1",
   "metadata": {},
   "source": [
    "Con los dataframes creados ya podemos empezar a obtener las columnas de cada uno.\n",
    "Segun la documentación sobre los dataframes obtenida de nyc.gov acerca de los reportes de [taxis amarillos y verdes](https://www.nyc.gov/assets/tlc/downloads/pdf/data_dictionary_trip_records_yellow.pdf) (las columnas usadas para yellow y green son las mismas) y los obtenidos en [taxis contratados con anterioridad](https://www.nyc.gov/assets/tlc/downloads/pdf/data_dictionary_trip_records_hvfhs.pdf), las columnas que debemos consultar para los ingresos son *total_amount* y *base_passenger_fare*"
   ]
  },
  {
   "cell_type": "code",
   "execution_count": 8,
   "id": "610155d8",
   "metadata": {},
   "outputs": [
    {
     "name": "stdout",
     "output_type": "stream",
     "text": [
      "Promedio de los taxis amarillos: 25.611291697288177\n",
      "Promedio de los taxis verdes: 22.634241609071722\n",
      "Promedio de los taxis contratados: 24.265754373809703\n",
      "\n",
      "Promedio entre los tres taxis: 24.1704292267232\n"
     ]
    }
   ],
   "source": [
    "pY = yellow[\"total_amount\"].mean()\n",
    "pG = green[\"total_amount\"].mean()\n",
    "pFH = forHire[\"base_passenger_fare\"].mean()\n",
    "\n",
    "print(\"Promedio de los taxis amarillos:\", pY)\n",
    "print(\"Promedio de los taxis verdes:\", pG)\n",
    "print(\"Promedio de los taxis contratados:\", pFH)\n",
    "\n",
    "print(\"\\nPromedio entre los tres taxis:\", np.mean([pY,pG,pFH]))\n",
    "\n"
   ]
  },
  {
   "cell_type": "markdown",
   "id": "ce0d9158",
   "metadata": {},
   "source": [
    "Como conclusión a este punto, podemos apreciar que en los viajes se tiene una media de 23-24 dolares."
   ]
  },
  {
   "cell_type": "markdown",
   "id": "91849398",
   "metadata": {},
   "source": [
    "### 2. Qué tipo de taxis recorrieron la mayor cantidad de distancia en Enero"
   ]
  },
  {
   "cell_type": "markdown",
   "id": "c5fc0206",
   "metadata": {},
   "source": [
    "Al igual que el punto anterior, obtenemos los valores de las distancias indicadas en las columnas de la documentación."
   ]
  },
  {
   "cell_type": "code",
   "execution_count": 22,
   "id": "036f7053",
   "metadata": {},
   "outputs": [
    {
     "name": "stdout",
     "output_type": "stream",
     "text": [
      "Distancia de amarillos: 20347886.729999997\n",
      "Distancia de verdes: 1040575.2500000001\n",
      "Distancia de contratados 98978656.50900005\n",
      "\n",
      "Taxis que mas recorrieron: 98978656.50900005\n"
     ]
    }
   ],
   "source": [
    "dY = yellow[\"trip_distance\"].sum()\n",
    "dG = green[\"trip_distance\"].sum()\n",
    "dFH = forHire[\"trip_miles\"].sum()\n",
    "\n",
    "print(\"Distancia de amarillos:\", dY)\n",
    "print(\"Distancia de verdes:\", dG)\n",
    "print(\"Distancia de contratados\", dFH)\n",
    "\n",
    "print(\"\\nTaxis que mas recorrieron:\", np.max([dY,dG,dFH]))"
   ]
  },
  {
   "cell_type": "markdown",
   "id": "7e197ac6",
   "metadata": {},
   "source": [
    "Curiosamente, los taxis contratados particulares recorren mucha mas distancia (y por tanto, son mas usados) que los taxis amarillos estandar y verdes."
   ]
  },
  {
   "cell_type": "markdown",
   "id": "a4d1caaa",
   "metadata": {},
   "source": [
    "### 3. Qué tipo de taxi recibe más propinas en promedio"
   ]
  },
  {
   "cell_type": "markdown",
   "id": "aad5b4d5",
   "metadata": {},
   "source": [
    "Accedemos a las columnas *tip_amount* para los taxis amarillos y verde y *tips* para los taxis particulares"
   ]
  },
  {
   "cell_type": "code",
   "execution_count": 21,
   "id": "2a369c38",
   "metadata": {},
   "outputs": [
    {
     "name": "stdout",
     "output_type": "stream",
     "text": [
      "Propinas obtenidas de amarillos: 10286018.349999998\n",
      "Propinas obtenidas de verdes: 119938.32\n",
      "Propinas obtenidas de contratados: 21247787.65000001\n",
      "\n",
      "Recibio mas propinas: 21247787.65000001\n"
     ]
    }
   ],
   "source": [
    "tY = yellow[\"tip_amount\"].sum()\n",
    "tG = green[\"tip_amount\"].sum()\n",
    "tFH = forHire[\"tips\"].sum()\n",
    "\n",
    "print(\"Propinas obtenidas de amarillos:\", tY)\n",
    "print(\"Propinas obtenidas de verdes:\", tG)\n",
    "print(\"Propinas obtenidas de contratados:\", tFH)\n",
    "\n",
    "print(\"\\nRecibio mas propinas:\", np.max([tY,tG,tFH]))"
   ]
  },
  {
   "cell_type": "markdown",
   "id": "747b311a",
   "metadata": {},
   "source": [
    "Como era de esperarse y de acuerdo a los resultados previos, los taxis que obtuvieron ams propinas son los particulares"
   ]
  },
  {
   "cell_type": "markdown",
   "id": "13de9b08",
   "metadata": {},
   "source": [
    "### 4. Gráfico de barras reportando el importe del peaje total de cada tipo de Taxi\n"
   ]
  },
  {
   "cell_type": "code",
   "execution_count": 24,
   "id": "51414215",
   "metadata": {},
   "outputs": [
    {
     "name": "stdout",
     "output_type": "stream",
     "text": [
      "89005026.8 1093822.36 495158878.98999995\n"
     ]
    },
    {
     "data": {
      "text/plain": [
       "Text(0.5, 1.0, 'Ganancias totales por cada taxi')"
      ]
     },
     "execution_count": 24,
     "metadata": {},
     "output_type": "execute_result"
    },
    {
     "data": {
      "image/png": "[encoded data removed]",
      "text/plain": [
       "<Figure size 640x480 with 1 Axes>"
      ]
     },
     "metadata": {},
     "output_type": "display_data"
    }
   ],
   "source": [
    "taxis = [\"Yellow\",\"Green\",\"Hired\"]\n",
    "\n",
    "totYellow = yellow[\"total_amount\"].sum()\n",
    "totGreen = green[\"total_amount\"].sum()\n",
    "totHire = forHire[\"base_passenger_fare\"].sum()\n",
    "print(totYellow,totGreen,totHire)\n",
    "\n",
    "ventas = [totYellow,totGreen,totHire]\n",
    "\n",
    "plt.bar(taxis, ventas, color=[\"yellow\",\"green\",\"black\"])\n",
    "plt.yscale(\"log\")\n",
    "plt.title(\"Ganancias totales por cada taxi\")"
   ]
  },
  {
   "cell_type": "markdown",
   "id": "79aec097",
   "metadata": {},
   "source": [
    "Se ha decidido usar una escala logaritmica, de lo contrario, el resultado de los taxis verdes, que son usados muy pocas veces, no se mostraria siquiera en una escala normal."
   ]
  }
 ],
 "metadata": {
  "kernelspec": {
   "display_name": "venv",
   "language": "python",
   "name": "python3"
  },
  "language_info": {
   "codemirror_mode": {
    "name": "ipython",
    "version": 3
   },
   "file_extension": ".py",
   "mimetype": "text/x-python",
   "name": "python",
   "nbconvert_exporter": "python",
   "pygments_lexer": "ipython3",
   "version": "3.11.5"
  }
 },
 "nbformat": 4,
 "nbformat_minor": 5
}
