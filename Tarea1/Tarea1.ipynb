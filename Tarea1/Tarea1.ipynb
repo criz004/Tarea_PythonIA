{
 "cells": [
  {
   "cell_type": "markdown",
   "metadata": {
    "id": "AnjfrYcx4MCI"
   },
   "source": [
    "# **Tarea de Numpy**\n",
    "\n",
    "Este notebook es el de los ejercicios >:)"
   ]
  },
  {
   "cell_type": "code",
   "execution_count": 1,
   "metadata": {
    "colab": {
     "base_uri": "https://localhost:8080/"
    },
    "executionInfo": {
     "elapsed": 9511,
     "status": "ok",
     "timestamp": 1746659065345,
     "user": {
      "displayName": "David Elias González García",
      "userId": "10354222974665753730"
     },
     "user_tz": 360
    },
    "id": "qxKzpmVP8Lqs",
    "outputId": "7a48480b-7b6b-4905-a165-57dd0860d3c8"
   },
   "outputs": [
    {
     "name": "stdout",
     "output_type": "stream",
     "text": [
      "Requirement already satisfied: numpy in d:\\documents\\universidad fi\\protecsa\\cursozzz\\ia\\ejemplo\\venv\\lib\\site-packages (2.2.5)\n"
     ]
    },
    {
     "name": "stderr",
     "output_type": "stream",
     "text": [
      "\n",
      "[notice] A new release of pip is available: 23.2.1 -> 25.1.1\n",
      "[notice] To update, run: python.exe -m pip install --upgrade pip\n"
     ]
    },
    {
     "name": "stdout",
     "output_type": "stream",
     "text": [
      "[1 2 3 4 5]\n",
      "3.0\n"
     ]
    }
   ],
   "source": [
    "!pip install numpy\n",
    "import numpy as np\n",
    "\n",
    "# Probando si si jala el numpy\n",
    "my_arreglow = np.array([1, 2, 3, 4, 5])\n",
    "\n",
    "print(my_arreglow)\n",
    "print(np.mean(my_arreglow))\n"
   ]
  },
  {
   "cell_type": "markdown",
   "metadata": {
    "id": "5bZxvLcH4Twv"
   },
   "source": [
    "## Ejercicios de refuerzo"
   ]
  },
  {
   "cell_type": "markdown",
   "metadata": {
    "id": "0DKnt0XJ4b0j"
   },
   "source": [
    "### **Ejercicio 1 - Crear un array de ceros:**\n",
    "Crea un array de tamaño (3, 4) lleno de ceros."
   ]
  },
  {
   "cell_type": "code",
   "execution_count": 2,
   "metadata": {
    "id": "XpBz8hQx4LD7"
   },
   "outputs": [
    {
     "name": "stdout",
     "output_type": "stream",
     "text": [
      "[[0. 0. 0. 0.]\n",
      " [0. 0. 0. 0.]\n",
      " [0. 0. 0. 0.]]\n"
     ]
    }
   ],
   "source": [
    "# Solución (:\n",
    "arrachera = np.zeros([3,4])\n",
    "print(arrachera)"
   ]
  },
  {
   "cell_type": "markdown",
   "metadata": {
    "id": "3LhYSK4M91vQ"
   },
   "source": [
    "### **Ejercicio 2-  Suma de elementos:**\n",
    "   Dado el array [1, 2, 3, 4, 5], calcula la suma de todos sus elementos usando NumPy."
   ]
  },
  {
   "cell_type": "code",
   "execution_count": 5,
   "metadata": {
    "id": "l0s1XSEL98xf"
   },
   "outputs": [
    {
     "name": "stdout",
     "output_type": "stream",
     "text": [
      "15\n"
     ]
    }
   ],
   "source": [
    "# Solucion :)\n",
    "arraydado = np.arange(1,6)\n",
    "print(sum(arraydado))\n"
   ]
  },
  {
   "cell_type": "markdown",
   "metadata": {
    "id": "u1S6J4AI99Ae"
   },
   "source": [
    "### **Ejercicio 3 - Encontrar el máximo y mínimo:**\n",
    "Dado el array [10, 20, 30, 40, 50], encuentra el valor máximo y mínimo."
   ]
  },
  {
   "cell_type": "code",
   "execution_count": 6,
   "metadata": {
    "id": "rU0mZk0h-A0R"
   },
   "outputs": [
    {
     "name": "stdout",
     "output_type": "stream",
     "text": [
      "Minimo: 10\n",
      "Maximo: 50\n"
     ]
    }
   ],
   "source": [
    "array = np.array([10, 20, 30, 40, 50])\n",
    "\n",
    "# Solución:)\n",
    "print(\"Minimo:\", min(array))\n",
    "print(\"Maximo:\", max(array))"
   ]
  },
  {
   "cell_type": "markdown",
   "metadata": {
    "id": "lACW-PKX-BDd"
   },
   "source": [
    "### **Ejercicio 4 - Encontrar el máximo y mínimo:**\n",
    " Dado el array [10, 20, 30, 40, 50], encuentra el valor máximo y mínimo.\n"
   ]
  },
  {
   "cell_type": "code",
   "execution_count": 7,
   "metadata": {
    "id": "-qHvH7gJ-Ede"
   },
   "outputs": [
    {
     "name": "stdout",
     "output_type": "stream",
     "text": [
      "Minimo: 10\n",
      "Maximo: 50\n"
     ]
    }
   ],
   "source": [
    "# Solución:)\n",
    "array = np.array([10, 20, 30, 40, 50])\n",
    "\n",
    "# Solución:)\n",
    "print(\"Minimo:\", min(array))\n",
    "print(\"Maximo:\", max(array))"
   ]
  },
  {
   "cell_type": "markdown",
   "metadata": {
    "id": "ZkPxM1Wt-EmM"
   },
   "source": [
    "### **Ejercicio 5 - Generar números aleatorios:**\n",
    "  Genera un array de 5 números aleatorios entre 0 y 1."
   ]
  },
  {
   "cell_type": "code",
   "execution_count": null,
   "metadata": {
    "id": "PBaN-yAp-Hu0"
   },
   "outputs": [
    {
     "name": "stdout",
     "output_type": "stream",
     "text": [
      "[1 1 1 1 1]\n"
     ]
    }
   ],
   "source": [
    "# Solución:)\n",
    "alea = np.random.randint(0,2,5)\n",
    "print(alea)"
   ]
  },
  {
   "cell_type": "markdown",
   "metadata": {
    "id": "MEDxAgWLAE8Q"
   },
   "source": [
    "### **Ejercicio 6 - Promedio de un array:**\n",
    "Dado el array [5, 10, 15, 20, 25], calcula su promedio usando NumPy."
   ]
  },
  {
   "cell_type": "code",
   "execution_count": 24,
   "metadata": {
    "id": "HjnjecKuAOkN"
   },
   "outputs": [
    {
     "name": "stdout",
     "output_type": "stream",
     "text": [
      "[ 5 10 15 20 25]\n",
      "Promedio:  <built-in method mean of numpy.ndarray object at 0x0000020D3CDDB7B0>\n"
     ]
    }
   ],
   "source": [
    "#Solucion:)\n",
    "array1 = np.arange(5,26,5)\n",
    "print(array1)\n",
    "print(\"Promedio: \", array1.mean)"
   ]
  },
  {
   "cell_type": "markdown",
   "metadata": {
    "id": "Z93kn0htAPZb"
   },
   "source": [
    "### **Ejercicio 7 - Concatenar dos arrays**\n",
    "Dados los arrays A = [1, 2, 3] y B = [4, 5, 6], concaténalos en un solo array."
   ]
  },
  {
   "cell_type": "code",
   "execution_count": 5,
   "metadata": {
    "id": "NzldaS9RAS45"
   },
   "outputs": [
    {
     "name": "stdout",
     "output_type": "stream",
     "text": [
      "Arreglo 1:  [1 2 3]\n",
      "Arreglo 2:  [4 5 6]\n",
      "Arreglo concatenado:  [1 2 3 4 5 6]\n"
     ]
    }
   ],
   "source": [
    "#Solucion:)\n",
    "arr1 = np.array([1,2,3])\n",
    "arr2 = np.array([4,5,6])\n",
    "print(\"Arreglo 1: \",arr1)\n",
    "print(\"Arreglo 2: \",arr2)\n",
    "print(\"Arreglo concatenado: \", np.concatenate((arr1,arr2),axis=0))"
   ]
  },
  {
   "cell_type": "markdown",
   "metadata": {
    "id": "bvTCzzFjAevg"
   },
   "source": [
    "### **Ejercicio 8 - Reshape de un Array**\n",
    "Dado el array [1, 2, 3, 4, 5, 6], cámbialo a una matriz de 2x3."
   ]
  },
  {
   "cell_type": "code",
   "execution_count": 7,
   "metadata": {
    "id": "0hfE1QUMAhB3"
   },
   "outputs": [
    {
     "name": "stdout",
     "output_type": "stream",
     "text": [
      "Arreglo inicial:\n",
      " [1 2 3 4 5 6]\n",
      "Arreglo nuevo:\n",
      " [[1 2 3]\n",
      " [4 5 6]]\n"
     ]
    }
   ],
   "source": [
    "#Solución:)\n",
    "arre = np.array([1,2,3,4,5,6])\n",
    "print(\"Arreglo inicial:\\n\",arre)\n",
    "arren = arre.reshape(2,3)\n",
    "print(\"Arreglo nuevo:\\n\",arren)"
   ]
  },
  {
   "cell_type": "markdown",
   "metadata": {
    "id": "By9zMuMyYMNA"
   },
   "source": [
    "### **Ejercicio 9 - Producto punto (dot product):**\n",
    "Dados dos arrays A = [1, 2, 3] y B = [4, 5, 6], calcula su producto punto"
   ]
  },
  {
   "cell_type": "code",
   "execution_count": 8,
   "metadata": {
    "id": "Vj-94PgAhpmk"
   },
   "outputs": [
    {
     "name": "stdout",
     "output_type": "stream",
     "text": [
      "32\n"
     ]
    }
   ],
   "source": [
    "#Solución:)\n",
    "A = np.array([1,2,3])\n",
    "B = np.array([4,5,6])\n",
    "C = np.dot(A,B)\n",
    "print(C)"
   ]
  },
  {
   "cell_type": "markdown",
   "metadata": {
    "id": "Z0UxB4reh4LU"
   },
   "source": [
    "### **Ejercicio 10 - Reorganizar un array:**\n",
    "Dado el array [1, 2, 3, 4, 5, 6, 7, 8, 9, 10], conviértelo en una matriz (2, 5)."
   ]
  },
  {
   "cell_type": "code",
   "execution_count": 9,
   "metadata": {
    "id": "GkjKd3SLh6Sf"
   },
   "outputs": [
    {
     "name": "stdout",
     "output_type": "stream",
     "text": [
      "[ 1  2  3  4  5  6  7  8  9 10]\n",
      "[[ 1  2  3  4  5]\n",
      " [ 6  7  8  9 10]]\n"
     ]
    }
   ],
   "source": [
    "#Solución:)\n",
    "arre = np.array([1,2,3,4,5,6,7,8,9,10])\n",
    "print(arre)\n",
    "arren = arre.reshape(2,5)\n",
    "print(arren)"
   ]
  },
  {
   "cell_type": "markdown",
   "metadata": {
    "id": "MpTGrPV5iE1Z"
   },
   "source": [
    "### **Ejercicio extra - Encontrar el *k*-ésimo elemento más pequeño en un array**\n",
    "Dado arr = np.array([9, 3, 6, 2, 1, 7]), encuentra el 3er elemento más pequeño sin ordenar el array completo.\n",
    "\n",
    "**Pista solución 1**: Se puede hacer con un método de Numpy\n",
    "\n",
    "**Pista solución 2**: El código se hace más complicado, pero se puede resolver con ciclos iterativos."
   ]
  },
  {
   "cell_type": "code",
   "execution_count": null,
   "metadata": {
    "id": "OYaMOW-jiLlX"
   },
   "outputs": [
    {
     "name": "stdout",
     "output_type": "stream",
     "text": [
      "Third least element: 3\n"
     ]
    }
   ],
   "source": [
    "#Solucion :o\n",
    "arr = np.array([9, 3, 6, 2, 1, 7])\n",
    "encontrado = np.partition(arr, 2)[2]\n",
    "print(\"Third least element:\", encontrado)"
   ]
  },
  {
   "cell_type": "markdown",
   "metadata": {
    "id": "Unyrp8HOCtMh"
   },
   "source": [
    "## **Ejercicios aplicados**"
   ]
  },
  {
   "cell_type": "markdown",
   "metadata": {
    "id": "K1CPCb12GeCz"
   },
   "source": [
    "### **Ejercicio: Cálculo de ROI (Retorno de Inversión)**\n",
    "Dadas las inversiones ([1000, 1500, 2000]) y sus retornos ([1200, 1650, 1800]), calcula el ROI porcentual para cada caso.\n",
    "\n",
    "*(Fórmula: ROI = (retorno - inversión) / inversión * 100)*"
   ]
  },
  {
   "cell_type": "code",
   "execution_count": 10,
   "metadata": {
    "id": "6Eo-aN8bCwg1"
   },
   "outputs": [
    {
     "name": "stdout",
     "output_type": "stream",
     "text": [
      "[ 0.002  0.001 -0.001]\n"
     ]
    }
   ],
   "source": [
    "# Solucion del ROIROIROIROIORIORI\n",
    "inv = np.array([1000,1500,2000])\n",
    "ret = np.array([1200,1650,1800])\n",
    "\n",
    "calc = (ret - inv)/(inv * 100)\n",
    "print(calc)"
   ]
  },
  {
   "cell_type": "markdown",
   "metadata": {
    "id": "3CfyZVv4GksC"
   },
   "source": [
    "### **Ejercicio: Normalización de Datos**\n",
    "Tienes un dataset de precios de productos (en USD): [250, 320, 150, 500, 210]. Normaliza los valores al rango [0, 1] para compararlos en una escala común.\n",
    "\n",
    "**Formulita de la normalización**: (x - min) / (max - min): Para una escala valores entre 0 y 1."
   ]
  },
  {
   "cell_type": "code",
   "execution_count": 11,
   "metadata": {
    "id": "afTic4_JGxAy"
   },
   "outputs": [
    {
     "name": "stdout",
     "output_type": "stream",
     "text": [
      "[0.28571429 0.48571429 0.         1.         0.17142857]\n"
     ]
    }
   ],
   "source": [
    "dataset = np.array([250,320,150,500,210])\n",
    "minD = np.min(dataset)\n",
    "maxD = np.max(dataset)\n",
    "normalizar = (dataset - minD)/(maxD - minD)\n",
    "print(normalizar)"
   ]
  },
  {
   "cell_type": "markdown",
   "metadata": {
    "id": "Px7Pdn7xHBAR"
   },
   "source": [
    "### **Ejercicio: Filtrado de Datos**\n",
    "En un array de ventas diarias ([1200, 0, 750, 2400, 0, 1800]), reemplaza los ceros (días sin ventas) por el promedio de los días con ventas."
   ]
  },
  {
   "cell_type": "code",
   "execution_count": 14,
   "metadata": {
    "id": "rqwubxX-HFBX"
   },
   "outputs": [
    {
     "name": "stdout",
     "output_type": "stream",
     "text": [
      "Promedio de dias con ventas:  1537.5\n",
      "[1200 1537  750 2400 1537 1800]\n"
     ]
    }
   ],
   "source": [
    "ventas = np.array([1200,0,750,2400,0,1800])\n",
    "prom = np.mean(ventas[ventas != 0])\n",
    "print(\"Promedio de dias con ventas: \",prom)\n",
    "\n",
    "ventas[ventas == 0 ] = prom\n",
    "print(ventas)"
   ]
  },
  {
   "cell_type": "markdown",
   "metadata": {
    "id": "dKK2wBEEdqzt"
   },
   "source": [
    "### **Ejercicio - Análisis de Presión Arterial**\n",
    "Tenemos un dataset de mediciones de presión arterial sistólica (mmHg) de 10 pacientes:\n",
    "[120, 135, 140, 118, 150, 130, 160, 125, 142, 128].\n",
    "\n",
    "Calculen:\n",
    "- Media y desviación estándar.\n",
    "- Identifiquen valores fuera del rango normal (90–140 mmHg)."
   ]
  },
  {
   "cell_type": "code",
   "execution_count": null,
   "metadata": {
    "id": "RkYj4KJud0uu"
   },
   "outputs": [
    {
     "name": "stdout",
     "output_type": "stream",
     "text": [
      "Pacientes:  [120 135 140 118 150 130 160 125 142 128]\n",
      "Meia:  134.8\n",
      "Desvacion estandar:  12.69488085804668\n",
      "Pacientes malitos:  [150 160 142]\n"
     ]
    }
   ],
   "source": [
    "pacientes = np.array([120, 135, 140, 118, 150, 130, 160, 125, 142, 128])\n",
    "print(\"Pacientes: \",pacientes)\n",
    "print(\"Media: \",np.mean(pacientes))\n",
    "print(\"Desvacion estandar: \",np.std(pacientes))\n",
    "print(\"Pacientes malitos: \", pacientes[(pacientes < 90) | (pacientes > 140)])"
   ]
  },
  {
   "cell_type": "markdown",
   "metadata": {
    "id": "ltzE201veNyz"
   },
   "source": [
    "### **Ejercicio - Cálculo del PIB per Cápita**\n",
    "Dados el PIB (en millones de USD) [500, 320, 700, 450] y la población (en millones) [10, 8, 12, 9] de 4 países, calculen el PIB per cápita y determinen el país con el mayor valor."
   ]
  },
  {
   "cell_type": "code",
   "execution_count": 29,
   "metadata": {
    "id": "TMl-OWMpeOcP"
   },
   "outputs": [
    {
     "name": "stdout",
     "output_type": "stream",
     "text": [
      "Pib per capita o7 [50.         40.         58.33333333 50.        ]\n",
      "Pais con mas pibpc: 58.333333333333336 millones\n"
     ]
    }
   ],
   "source": [
    "pibs = np.array([500,320,700,450])\n",
    "pobs = np.array([10,8,12,9])\n",
    "pibpc = pibs/pobs\n",
    "print(\"Pib per capita o7\",pibpc)\n",
    "print(\"Pais con mas pibpc:\",np.max(pibpc),\"millones\")\n"
   ]
  },
  {
   "cell_type": "markdown",
   "metadata": {
    "id": "7AP-dS9HgAO9"
   },
   "source": [
    "### **Ejercicio - Sistema de Drops (Probabilidades)**\n",
    "En un videojuego RPG, los enemigos al ser vencidos, pueden dropear (soltar):\n",
    "- 0 = Nada (50%).\n",
    "- 1 = Poción (30%).\n",
    "- 2 = Arma (15%).\n",
    "- 3 = Artefacto (5%).\n",
    "\n",
    "Simula 100 drops y cuenta cuántos artefactos se obtuvieron.\n",
    "\n",
    "*Ejemplo de salida*:\n",
    "\n",
    "```\n",
    "Artifactos obtenidos: 3\n",
    "```\n",
    "\n"
   ]
  },
  {
   "cell_type": "code",
   "execution_count": 80,
   "metadata": {
    "id": "828OGOwUgPBV"
   },
   "outputs": [
    {
     "name": "stdout",
     "output_type": "stream",
     "text": [
      "[ 69  56  46  97  61  91  71  76  87  74  46  62  33  60  74  52  38  84\n",
      "  59   4  35  29  47  86  15  50  13  61  74   9  85  69  47  83  17  10\n",
      "  85  33  90  97  40  30  95   1  25  47  59  82  40  30  57  46 100  41\n",
      "  20  35  46  40  61  73  40  15  78  69   4  28  72   8  77   9  91   7\n",
      "  47  44   3  46  19  35  30  79  19  89  48  88  84  90  90  49  89  82\n",
      "  49  13  72  55  67  71  95  24  81  58]\n",
      "Artefactos:  4\n"
     ]
    }
   ],
   "source": [
    "valores = np.random.randint(1,101,100)\n",
    "print(valores)\n",
    "\n",
    "pociones = valores[valores <= 50]\n",
    "armas = valores[valores <= 15]\n",
    "artefactos = valores[valores <= 5]\n",
    "\n",
    "print(\"Artefactos: \", np.size(artefactos))"
   ]
  }
 ],
 "metadata": {
  "colab": {
   "provenance": []
  },
  "kernelspec": {
   "display_name": "venv",
   "language": "python",
   "name": "python3"
  },
  "language_info": {
   "codemirror_mode": {
    "name": "ipython",
    "version": 3
   },
   "file_extension": ".py",
   "mimetype": "text/x-python",
   "name": "python",
   "nbconvert_exporter": "python",
   "pygments_lexer": "ipython3",
   "version": "3.11.5"
  }
 },
 "nbformat": 4,
 "nbformat_minor": 0
}
